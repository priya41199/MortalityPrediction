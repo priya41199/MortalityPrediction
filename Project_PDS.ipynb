{
 "cells": [
  {
   "cell_type": "markdown",
   "id": "a20565d7-13b7-4b72-9900-d3294223d459",
   "metadata": {},
   "source": [
    "# IMPORT MODULES"
   ]
  },
  {
   "cell_type": "code",
   "execution_count": null,
   "id": "2dc79171-8f4e-406e-a502-3885815d0628",
   "metadata": {},
   "outputs": [],
   "source": [
    "import pandas as pd\n",
    "import numpy as np\n",
    "import seaborn as sns\n",
    "import matplotlib.pyplot as plt\n",
    "from sklearn.model_selection import train_test_split\n",
    "from scipy.stats import chi2_contingency, pointbiserialr\n",
    "from imblearn.under_sampling import RandomUnderSampler"
   ]
  },
  {
   "cell_type": "markdown",
   "id": "a561e10a-32e8-4f36-bd4c-e6c9de8635de",
   "metadata": {},
   "source": [
    "# DATA UNDERSTANDING"
   ]
  },
  {
   "cell_type": "markdown",
   "id": "297341c5-a54e-482b-9a20-b38b715322c5",
   "metadata": {},
   "source": [
    "### READING DATA and IDENTIFYING TARGET VARIABLES"
   ]
  },
  {
   "cell_type": "code",
   "execution_count": null,
   "id": "ba8f05ab-8c5c-441c-aa6e-4f81569b160c",
   "metadata": {},
   "outputs": [],
   "source": [
    "data_frame = pd.read_csv('Mortality Dataset 2021 11 20.csv')\n",
    "pd.set_option('display.max_columns', 70)\n",
    "data_frame.head()"
   ]
  },
  {
   "cell_type": "code",
   "execution_count": null,
   "id": "68853044-f7c9-4a00-b01e-464d8385043b",
   "metadata": {},
   "outputs": [],
   "source": [
    "data_frame.shape"
   ]
  },
  {
   "cell_type": "markdown",
   "id": "92f66a38-c08a-403b-a12a-ee3ef8f742ea",
   "metadata": {},
   "source": [
    "### Target Variable"
   ]
  },
  {
   "cell_type": "code",
   "execution_count": null,
   "id": "77a5d023-222e-4307-be94-0f81d6a27982",
   "metadata": {},
   "outputs": [],
   "source": [
    "data_frame['mortality'] = data_frame['DEATH_5']+data_frame['DEATH_10']\n",
    "data_frame.shape"
   ]
  },
  {
   "cell_type": "code",
   "execution_count": null,
   "id": "3ebd04bf-366a-4772-af69-74fe6d1cbd28",
   "metadata": {},
   "outputs": [],
   "source": [
    "print(data_frame['mortality'].unique())"
   ]
  },
  {
   "cell_type": "markdown",
   "id": "d4d057eb-6de8-4860-bc48-7361ee429456",
   "metadata": {},
   "source": [
    "## EXPLORATORY DATA ANALYSIS"
   ]
  },
  {
   "cell_type": "markdown",
   "id": "2b4fc03c-6ce2-4493-bc20-0fd42130214f",
   "metadata": {},
   "source": [
    "## ABT REPORT"
   ]
  },
  {
   "cell_type": "code",
   "execution_count": null,
   "id": "e2e3864d-06c6-4d66-a75e-5b43ef710c75",
   "metadata": {},
   "outputs": [],
   "source": [
    "categorical = data_frame.select_dtypes(include = 'object')\n",
    "categorical.columns"
   ]
  },
  {
   "cell_type": "code",
   "execution_count": null,
   "id": "a2b7b6ad-7cee-4b10-8f0f-5df8b09214ea",
   "metadata": {},
   "outputs": [],
   "source": [
    "len(categorical.columns)"
   ]
  },
  {
   "cell_type": "code",
   "execution_count": null,
   "id": "9c3d741b-bd50-495a-9ed0-c067188a8918",
   "metadata": {},
   "outputs": [],
   "source": [
    "numerical = data_frame.select_dtypes(include = 'number')\n",
    "numerical.columns"
   ]
  },
  {
   "cell_type": "code",
   "execution_count": null,
   "id": "f39bcb25-0cf7-44d5-a154-9b0f01e524d2",
   "metadata": {},
   "outputs": [],
   "source": [
    "len(numerical.columns)"
   ]
  },
  {
   "cell_type": "markdown",
   "id": "c65275a4-5b8a-46d8-aaa8-5c845ec7df7a",
   "metadata": {},
   "source": [
    "### Continuous Features"
   ]
  },
  {
   "cell_type": "code",
   "execution_count": null,
   "id": "ec662f1d-91d0-4879-8afd-d15fdc15ae0b",
   "metadata": {},
   "outputs": [],
   "source": [
    "abt_cont = pd.DataFrame(columns=['count','percent_missing','cardinality','Min_val','1st_Quartile','mean_val','median_val','3rd_Quartile','Max_val','StdDev'])"
   ]
  },
  {
   "cell_type": "code",
   "execution_count": null,
   "id": "959d8f55-29a5-4053-b3a7-02e003cbb0aa",
   "metadata": {},
   "outputs": [],
   "source": [
    "abt_cont['mean_val']=numerical.mean()\n",
    "# print(type(numerical.mean()))"
   ]
  },
  {
   "cell_type": "code",
   "execution_count": null,
   "id": "59a8e144-6c11-4a1d-a154-7bf6bccbc3cb",
   "metadata": {},
   "outputs": [],
   "source": [
    "abt_cont['median_val']=numerical.median()"
   ]
  },
  {
   "cell_type": "code",
   "execution_count": null,
   "id": "4d1a2d80-386c-4ef0-8ee0-d643860025f5",
   "metadata": {},
   "outputs": [],
   "source": [
    "abt_cont['count']=numerical.count()"
   ]
  },
  {
   "cell_type": "code",
   "execution_count": null,
   "id": "c3381571-1cca-4483-a81c-ccb42f88faff",
   "metadata": {},
   "outputs": [],
   "source": [
    "abt_cont['Min_val']=numerical.min()"
   ]
  },
  {
   "cell_type": "code",
   "execution_count": null,
   "id": "46d398f9-7ea9-4a52-bd50-3b87e36a5023",
   "metadata": {},
   "outputs": [],
   "source": [
    "abt_cont['Max_val']=numerical.max()"
   ]
  },
  {
   "cell_type": "code",
   "execution_count": null,
   "id": "d977276b-433d-4c30-8151-2a3775fdd1de",
   "metadata": {},
   "outputs": [],
   "source": [
    "abt_cont['StdDev']=numerical.std()"
   ]
  },
  {
   "cell_type": "code",
   "execution_count": null,
   "id": "68399261-6689-418f-9add-324da66814a5",
   "metadata": {},
   "outputs": [],
   "source": [
    "abt_cont['cardinality']=numerical.nunique()"
   ]
  },
  {
   "cell_type": "code",
   "execution_count": null,
   "id": "e0ce0ca1-488b-40f4-b1bb-f14b984cbf37",
   "metadata": {},
   "outputs": [],
   "source": [
    "abt_cont['percent_missing'] = (numerical.isna().sum()/275190)*100"
   ]
  },
  {
   "cell_type": "code",
   "execution_count": null,
   "id": "d71a7c71-a565-4c31-b237-8031877ebb65",
   "metadata": {},
   "outputs": [],
   "source": [
    "abt_cont['1st_Quartile'] = numerical.quantile(0.25)"
   ]
  },
  {
   "cell_type": "code",
   "execution_count": null,
   "id": "9cb61d10-3017-4d19-aaca-3017bca2b781",
   "metadata": {},
   "outputs": [],
   "source": [
    "abt_cont['3rd_Quartile'] = numerical.quantile(0.75)"
   ]
  },
  {
   "cell_type": "code",
   "execution_count": null,
   "id": "2c701f4f-3f74-43fb-8e58-b8144049137e",
   "metadata": {},
   "outputs": [],
   "source": [
    "pd.set_option('display.max_rows', 71)\n",
    "abt_cont"
   ]
  },
  {
   "cell_type": "markdown",
   "id": "116487db-839d-4bf3-8895-ac57e52d17b2",
   "metadata": {},
   "source": [
    "### Categorical Variables"
   ]
  },
  {
   "cell_type": "code",
   "execution_count": null,
   "id": "13596565-937b-4866-8b76-fa967aee8b82",
   "metadata": {},
   "outputs": [],
   "source": [
    "abt_cat = pd.DataFrame(columns=['count','percent_missing','cardinality','1st_Mode','1st_Mode_percent','1st_Mode_Freq'])"
   ]
  },
  {
   "cell_type": "code",
   "execution_count": null,
   "id": "3ee912fb-5521-4950-a637-26a225184d58",
   "metadata": {},
   "outputs": [],
   "source": [
    "abt_cat['count'] = categorical.count()"
   ]
  },
  {
   "cell_type": "code",
   "execution_count": null,
   "id": "34763f15-90fa-4105-995e-aa18cf647ca0",
   "metadata": {},
   "outputs": [],
   "source": [
    "abt_cat['cardinality'] = categorical.nunique()"
   ]
  },
  {
   "cell_type": "code",
   "execution_count": null,
   "id": "54b3a0c3-a019-4d16-b7b4-e398c622123e",
   "metadata": {},
   "outputs": [],
   "source": [
    "abt_cat['percent_missing'] = (categorical.isna().sum()/275190)*100"
   ]
  },
  {
   "cell_type": "code",
   "execution_count": null,
   "id": "e04fe319-9cb3-4339-8f74-31fbf7351764",
   "metadata": {},
   "outputs": [],
   "source": [
    "abt_cat['1st_Mode'] = categorical.mode().T\n",
    "# print(modes)\n",
    "\n",
    "for col in categorical.columns:\n",
    "    abt_cat.at[col,'1st_Mode_Freq'] = categorical[col].value_counts()[abt_cat.at[col,'1st_Mode']]\n",
    "    abt_cat.at[col,'1st_Mode_percent'] = (abt_cat.at[col,'1st_Mode_Freq'] / len(categorical)) * 100"
   ]
  },
  {
   "cell_type": "code",
   "execution_count": null,
   "id": "895b561a-0589-4b4a-838b-d652d1a79429",
   "metadata": {},
   "outputs": [],
   "source": [
    "pd.set_option('display.max_rows',5)\n",
    "abt_cat"
   ]
  },
  {
   "cell_type": "markdown",
   "id": "1c8fbff5-ddd6-40b0-a930-5f7863d9159d",
   "metadata": {},
   "source": [
    "### VISUALIZATIONS"
   ]
  },
  {
   "cell_type": "markdown",
   "id": "adc793ca-bb73-4b6d-bf4e-f9cf03f875ac",
   "metadata": {},
   "source": [
    "### Continuous"
   ]
  },
  {
   "cell_type": "code",
   "execution_count": null,
   "id": "7c8bf1fa-2701-4bef-b762-dd27f0c5a364",
   "metadata": {},
   "outputs": [],
   "source": [
    "num_cols = 5\n",
    "num_rows = 14\n",
    "fig, axes = plt.subplots(num_rows, num_cols, figsize= (15,70))\n",
    "\n",
    "for i, col in enumerate(numerical.columns):\n",
    "    row = i // num_cols\n",
    "    col_idx = i % num_cols\n",
    "    ax = axes[row, col_idx]\n",
    "    ax.boxplot(numerical[col])\n",
    "    ax.set_title(\"Plot for {}\".format(col))\n",
    "    "
   ]
  },
  {
   "cell_type": "markdown",
   "id": "0bcccf44-3394-418c-8cc0-704505b71806",
   "metadata": {},
   "source": [
    "### Categorical"
   ]
  },
  {
   "cell_type": "code",
   "execution_count": null,
   "id": "50cdca3f-4693-43ec-bc45-d85238b61ab9",
   "metadata": {},
   "outputs": [],
   "source": [
    "print(categorical.columns)"
   ]
  },
  {
   "cell_type": "code",
   "execution_count": null,
   "id": "66976dd3-41e2-4573-bda3-e6889c8c9cfc",
   "metadata": {},
   "outputs": [],
   "source": [
    "for column in categorical.columns:\n",
    "    value_counts = categorical[column].value_counts()\n",
    "    # print(value_counts)\n",
    "    # Create figure and axis for the bar plot\n",
    "    plt.figure(figsize=(8, 6))\n",
    "    plt.bar(value_counts.index, value_counts.values)\n",
    "    \n",
    "    # # Add labels and title\n",
    "    plt.xlabel(column)\n",
    "    plt.ylabel('Frequency')\n",
    "    plt.title(f'Bar Plot for {column}')\n"
   ]
  },
  {
   "cell_type": "markdown",
   "id": "8bc7a0bc-933f-4f6b-b36b-d308e2df36e6",
   "metadata": {},
   "source": [
    "## DATA QUALITY PLAN"
   ]
  },
  {
   "cell_type": "markdown",
   "id": "d957a295-9357-4271-ad50-7700000b4ca1",
   "metadata": {},
   "source": [
    "### MISSING VALUES"
   ]
  },
  {
   "cell_type": "code",
   "execution_count": null,
   "id": "0ab4a106-e4d5-4005-abb1-32f6af27512a",
   "metadata": {},
   "outputs": [],
   "source": [
    "null_count = data_frame.isnull().sum()\n",
    "pd.set_option('display.max_rows', 71)\n",
    "print(null_count.sort_values(ascending=False))"
   ]
  },
  {
   "cell_type": "markdown",
   "id": "88065a7b-7998-4d4c-b8e4-225919933fd2",
   "metadata": {},
   "source": [
    "### DUPLICATES"
   ]
  },
  {
   "cell_type": "code",
   "execution_count": null,
   "id": "35dcb6fb-0e8a-4587-9461-c108d1470617",
   "metadata": {},
   "outputs": [],
   "source": [
    "duplicates = data_frame[data_frame.duplicated()]\n",
    "print(duplicates)"
   ]
  },
  {
   "cell_type": "markdown",
   "id": "c69b5100-663e-42d8-b211-11104ee11803",
   "metadata": {},
   "source": [
    "### REMOVING DUPLICATES"
   ]
  },
  {
   "cell_type": "code",
   "execution_count": null,
   "id": "52b5a89b-fcc6-4ec2-938e-8ec794b46462",
   "metadata": {},
   "outputs": [],
   "source": [
    "data_frame1 = data_frame.drop_duplicates(keep='last')\n",
    "data_frame1.shape\n",
    "data_frame1.head()"
   ]
  },
  {
   "cell_type": "markdown",
   "id": "7fa11c65-4357-44b3-9812-88b02e4bbb21",
   "metadata": {},
   "source": [
    "### HANDLING OUTLIERS"
   ]
  },
  {
   "cell_type": "code",
   "execution_count": null,
   "id": "6aba8876-fc5d-4e79-a5f3-ebdbbfd72c9e",
   "metadata": {},
   "outputs": [],
   "source": [
    "data_frame1['mortality'].head()"
   ]
  },
  {
   "cell_type": "code",
   "execution_count": null,
   "id": "10e4cd15-42f2-4010-8c3d-ce78a96cfc2d",
   "metadata": {},
   "outputs": [],
   "source": [
    "data_frame1.shape\n",
    "data_frame1['SYSTOLIC'].unique()"
   ]
  },
  {
   "cell_type": "code",
   "execution_count": null,
   "id": "c93c29f2-60e5-4ec3-bbc6-a09f906c1cc7",
   "metadata": {},
   "outputs": [],
   "source": [
    "sns.boxplot(x='mortality', y='SYSTOLIC', data=data_frame1)\n",
    "\n",
    "# Add labels and title\n",
    "plt.xlabel('Mortality')\n",
    "plt.ylabel('Systolic')\n",
    "plt.title('Box Plot of Value by Category')\n",
    "\n",
    "# Show plot\n",
    "plt.show()"
   ]
  },
  {
   "cell_type": "code",
   "execution_count": null,
   "id": "4cca6263-3d96-49fd-a8f6-343a23abd56e",
   "metadata": {},
   "outputs": [],
   "source": [
    "data_frame1['SYSTOLIC']= pd.cut(x=data_frame1['SYSTOLIC'], bins = [0, 119, 129, 139, 179, 200], right=False, labels=[\"<120\", \"120-129\", \"130-139\", \"140-179\", \">=180\"], include_lowest=True)\n"
   ]
  },
  {
   "cell_type": "code",
   "execution_count": null,
   "id": "2d71cef8-7557-4cfe-b904-ddaf4d7e4b91",
   "metadata": {},
   "outputs": [],
   "source": [
    "bin_counts = data_frame1['SYSTOLIC'].value_counts().sort_index()\n",
    "plt.bar(bin_counts.index, bin_counts.values)\n",
    "\n",
    "# Add labels and title\n",
    "plt.xlabel('Systolic Range')\n",
    "plt.ylabel('Frequency')\n",
    "plt.title('Histogram of Systolic Range')\n",
    "\n",
    "# Show plot\n",
    "plt.show()"
   ]
  },
  {
   "cell_type": "code",
   "execution_count": null,
   "id": "41385db6-c9e4-476b-9da5-d8bbbc7d7c06",
   "metadata": {},
   "outputs": [],
   "source": [
    "print(data_frame1['mortality'].unique())\n",
    "\n",
    "sns.boxplot(x='mortality', y='AGE', data=data_frame1)\n",
    "\n",
    "# Add labels and title\n",
    "plt.xlabel('Mortality')\n",
    "plt.ylabel('AGE')\n",
    "plt.title('Box Plot of Value by Category')\n",
    "\n",
    "# Show plot\n",
    "plt.show()"
   ]
  },
  {
   "cell_type": "code",
   "execution_count": null,
   "id": "2875bb15-bbc2-4968-993e-6ea843012820",
   "metadata": {},
   "outputs": [],
   "source": [
    "data_frame1['AGE'] = pd.cut(x=data_frame1['AGE'], bins=[65, 70, 75, 80, 85, 90, 95, 100],\n",
    "                     right = False, labels=['65-69', '70-74', '75-79',\n",
    "                            '80-84', '85-89', '90-94', '>=95'],include_lowest = True)"
   ]
  },
  {
   "cell_type": "code",
   "execution_count": null,
   "id": "803cb57e-c257-448f-a26a-3a803486935c",
   "metadata": {},
   "outputs": [],
   "source": [
    "bin_counts = data_frame1['AGE'].value_counts().sort_index()\n",
    "plt.bar(bin_counts.index, bin_counts.values)\n",
    "\n",
    "# Add labels and title\n",
    "plt.xlabel('Age Range')\n",
    "plt.ylabel('Frequency')\n",
    "plt.title('Histogram of AGE')\n",
    "\n",
    "# Show plot\n",
    "plt.show()"
   ]
  },
  {
   "cell_type": "code",
   "execution_count": null,
   "id": "e587c476-b2d9-474e-829b-4dc5647d8ed6",
   "metadata": {},
   "outputs": [],
   "source": [
    "sns.boxplot(x='mortality', y='BMI', data=data_frame1)\n",
    "\n",
    "# Add labels and title\n",
    "plt.xlabel('Mortality')\n",
    "plt.ylabel('BMI')\n",
    "plt.title('Box Plot of Value by Category')\n",
    "\n",
    "# Show plot\n",
    "plt.show()"
   ]
  },
  {
   "cell_type": "code",
   "execution_count": null,
   "id": "09d29611-eefd-4c57-90bc-548f3bf4520f",
   "metadata": {},
   "outputs": [],
   "source": [
    "data_frame1.loc[:, 'BMI'] = pd.cut(x=data_frame1['BMI'], bins=[10, 18.4, 24.9, 39.9, 49.9,\n",
    "np.inf] ,right = False, labels=['<18.5','18.5-24.9','25-39.9','40-49.9', '>=50' ],include_lowest = True)"
   ]
  },
  {
   "cell_type": "code",
   "execution_count": null,
   "id": "e8e88935-c0e3-45d5-8b88-e895ccc8df67",
   "metadata": {},
   "outputs": [],
   "source": [
    "bin_counts = data_frame1['BMI'].value_counts().sort_index()\n",
    "plt.bar(bin_counts.index, bin_counts.values)\n",
    "\n",
    "# Add labels and title\n",
    "plt.xlabel('BMI')\n",
    "plt.ylabel('Frequency')\n",
    "plt.title('Histogram of BMI Range')\n",
    "\n",
    "# Show plot\n",
    "plt.show()"
   ]
  },
  {
   "cell_type": "code",
   "execution_count": null,
   "id": "51880787-fb86-49ea-9efc-5745490e37e6",
   "metadata": {},
   "outputs": [],
   "source": [
    "sns.boxplot(x='mortality', y='A1C', data=data_frame1)\n",
    "\n",
    "# Add labels and title\n",
    "plt.xlabel('Mortality')\n",
    "plt.ylabel('A1C')\n",
    "plt.title('Box Plot of Value by Category')\n",
    "\n",
    "# Show plot\n",
    "plt.show()"
   ]
  },
  {
   "cell_type": "code",
   "execution_count": null,
   "id": "cd5f5479-7f04-44c8-9d0b-e1d3d167e35a",
   "metadata": {},
   "outputs": [],
   "source": [
    "\n",
    "data_frame1['A1C']= pd.cut(x=data_frame1['A1C'], bins = [-np.inf, 7.9, 9.0, np.inf] , right=False, labels=[\"<8\", \"8-9\", \">9\" ], include_lowest=True)"
   ]
  },
  {
   "cell_type": "code",
   "execution_count": null,
   "id": "547d296a-fc30-4d50-8cb1-3836ab20fc0a",
   "metadata": {},
   "outputs": [],
   "source": [
    "bin_counts = data_frame1['A1C'].value_counts().sort_index()\n",
    "plt.bar(bin_counts.index, bin_counts.values)\n",
    "\n",
    "# Add labels and title\n",
    "plt.xlabel('A1C')\n",
    "plt.ylabel('Frequency')\n",
    "plt.title('Histogram of A1C')\n",
    "\n",
    "# Show plot\n",
    "plt.show()"
   ]
  },
  {
   "cell_type": "code",
   "execution_count": null,
   "id": "1cf058f6-be2e-4856-ba46-195ea2a7182c",
   "metadata": {},
   "outputs": [],
   "source": [
    "sns.boxplot(x='mortality', y='SERUMALB', data=data_frame1)\n",
    "\n",
    "# Add labels and title\n",
    "plt.xlabel('Mortality')\n",
    "plt.ylabel('SERUMALB')\n",
    "plt.title('Box Plot of Value by Category')\n",
    "\n",
    "# Show plot\n",
    "plt.show()"
   ]
  },
  {
   "cell_type": "code",
   "execution_count": null,
   "id": "390bc597-930b-4ae3-8990-227d382f0802",
   "metadata": {},
   "outputs": [],
   "source": [
    "\n",
    "data_frame1['SERUMALB']= pd.cut(x=data_frame1['SERUMALB'], bins = [-np.inf, 3.49, np.inf] , right=False, labels=[\"<3.5\", \">=3.5\" ], include_lowest=True)"
   ]
  },
  {
   "cell_type": "code",
   "execution_count": null,
   "id": "00ad3486-fb35-467d-93b7-8deb2acd127d",
   "metadata": {},
   "outputs": [],
   "source": [
    "bin_counts = data_frame1['SERUMALB'].value_counts().sort_index()\n",
    "plt.bar(bin_counts.index, bin_counts.values)\n",
    "\n",
    "# Add labels and title\n",
    "plt.xlabel('SERUMALB')\n",
    "plt.ylabel('Frequency')\n",
    "plt.title('Histogram of SERUMALB Range')\n",
    "\n",
    "# Show plot\n",
    "plt.show()"
   ]
  },
  {
   "cell_type": "code",
   "execution_count": null,
   "id": "ad32b3bd-3672-4f2c-b2ee-6f6cc82037a1",
   "metadata": {},
   "outputs": [],
   "source": [
    "sns.boxplot(x='mortality', y='SERUMCRE', data=data_frame1)\n",
    "\n",
    "# Add labels and title\n",
    "plt.xlabel('Mortality')\n",
    "plt.ylabel('SERUMCRE')\n",
    "plt.title('Box Plot of Value by Category')\n",
    "\n",
    "# Show plot\n",
    "plt.show()"
   ]
  },
  {
   "cell_type": "code",
   "execution_count": null,
   "id": "b0a917fe-61a6-4822-89bb-44c8371af4e9",
   "metadata": {},
   "outputs": [],
   "source": [
    "\n",
    "data_frame1['SERUMCRE']= pd.cut(x=data_frame1['SERUMCRE'], bins = [-np.inf, 1.49, 3.00, np.inf] , right=False, labels=[\"<1.5\", \"1.5-3.0\", \">3.0\"], include_lowest=True)"
   ]
  },
  {
   "cell_type": "code",
   "execution_count": null,
   "id": "333ed9ac-ab1d-4edc-98ab-58e7b846881b",
   "metadata": {},
   "outputs": [],
   "source": [
    "bin_counts = data_frame1['SERUMCRE'].value_counts().sort_index()\n",
    "plt.bar(bin_counts.index, bin_counts.values)\n",
    "\n",
    "# Add labels and title\n",
    "plt.xlabel('SERUMCRE')\n",
    "plt.ylabel('Frequency')\n",
    "plt.title('Histogram of SERUMCRE Range')\n",
    "\n",
    "# Show plot\n",
    "plt.show()"
   ]
  },
  {
   "cell_type": "code",
   "execution_count": null,
   "id": "b0ab3635-f0e1-4314-9793-0066849e8e0e",
   "metadata": {},
   "outputs": [],
   "source": [
    "sns.boxplot(x='mortality', y='N_IP', data=data_frame1)\n",
    "\n",
    "# Add labels and title\n",
    "plt.xlabel('Mortality')\n",
    "plt.ylabel('N_IP')\n",
    "plt.title('Box Plot of Value by Category')\n",
    "\n",
    "# Show plot\n",
    "plt.show()"
   ]
  },
  {
   "cell_type": "code",
   "execution_count": null,
   "id": "01761f53-103a-40a4-8ad6-7fe0754ccd4a",
   "metadata": {},
   "outputs": [],
   "source": [
    "data_frame1['N_IP']= pd.cut(x=data_frame1['N_IP'], bins = [0, 5, np.inf]  , right=False, labels=[\"0-5\", \">5\"  ], include_lowest=True)"
   ]
  },
  {
   "cell_type": "code",
   "execution_count": null,
   "id": "cc6853f7-4bf6-4949-945a-63e0972ba3af",
   "metadata": {},
   "outputs": [],
   "source": [
    "bin_counts = data_frame1['N_IP'].value_counts().sort_index()\n",
    "plt.bar(bin_counts.index, bin_counts.values)\n",
    "\n",
    "# Add labels and title\n",
    "plt.xlabel('N_IP')\n",
    "plt.ylabel('Frequency')\n",
    "plt.title('Histogram of N_IP Range')\n",
    "\n",
    "# Show plot\n",
    "plt.show()"
   ]
  },
  {
   "cell_type": "code",
   "execution_count": null,
   "id": "2abfb933-d644-4889-8b50-1ace1728714a",
   "metadata": {},
   "outputs": [],
   "source": [
    "sns.boxplot(x='mortality', y='N_OP', data=data_frame1)\n",
    "\n",
    "# Add labels and title\n",
    "plt.xlabel('Mortality')\n",
    "plt.ylabel('N_OP')\n",
    "plt.title('Box Plot of Value by Category')\n",
    "\n",
    "# Show plot\n",
    "plt.show()"
   ]
  },
  {
   "cell_type": "code",
   "execution_count": null,
   "id": "84c63ea4-7abf-4b5b-aad3-30d6881437a0",
   "metadata": {},
   "outputs": [],
   "source": [
    "\n",
    "data_frame1['N_OP']= pd.cut(x=data_frame1['N_OP'], bins = [0, 5, 30, np.inf] , right=False, labels=[\"0-5\", \"6-30\", \">30\" ], include_lowest=True)"
   ]
  },
  {
   "cell_type": "code",
   "execution_count": null,
   "id": "63374074-4c80-47c6-8255-50c41ca66a0d",
   "metadata": {},
   "outputs": [],
   "source": [
    "bin_counts = data_frame1['N_OP'].value_counts().sort_index()\n",
    "plt.bar(bin_counts.index, bin_counts.values)\n",
    "\n",
    "# Add labels and title\n",
    "plt.xlabel('N_OP')\n",
    "plt.ylabel('Frequency')\n",
    "plt.title('Histogram of N_OP Range')\n",
    "\n",
    "# Show plot\n",
    "plt.show()"
   ]
  },
  {
   "cell_type": "code",
   "execution_count": null,
   "id": "114ab6e0-d7fb-4075-9ca4-4b0f83c8c707",
   "metadata": {},
   "outputs": [],
   "source": [
    "sns.boxplot(x='mortality', y='DIASTOLIC', data=data_frame1)\n",
    "\n",
    "# Add labels and title\n",
    "plt.xlabel('Mortality')\n",
    "plt.ylabel('DIASTOLIC')\n",
    "plt.title('Box Plot of Value by Category')\n",
    "\n",
    "# Show plot\n",
    "plt.show()"
   ]
  },
  {
   "cell_type": "code",
   "execution_count": null,
   "id": "e69c6049-feda-412c-a8a4-884af3d56beb",
   "metadata": {},
   "outputs": [],
   "source": [
    "\n",
    "data_frame1['DIASTOLIC']= pd.cut(x=data_frame1['DIASTOLIC'], bins = [-np.inf, 79, 89, np.inf] , right=False, labels=[\"<80\", \"80-89\", \">=90\"], include_lowest=True)"
   ]
  },
  {
   "cell_type": "code",
   "execution_count": null,
   "id": "d97ee916-f690-4302-91fa-9d297ef4652d",
   "metadata": {},
   "outputs": [],
   "source": [
    "bin_counts = data_frame1['DIASTOLIC'].value_counts().sort_index()\n",
    "plt.bar(bin_counts.index, bin_counts.values)\n",
    "\n",
    "# Add labels and title\n",
    "plt.xlabel('DIASTOLIC')\n",
    "plt.ylabel('Frequency')\n",
    "plt.title('Histogram of DIASTOLIC Range')\n",
    "\n",
    "# Show plot\n",
    "plt.show()"
   ]
  },
  {
   "cell_type": "code",
   "execution_count": null,
   "id": "d2be76a9-23c7-45d6-847e-bd5dcbcfa499",
   "metadata": {},
   "outputs": [],
   "source": [
    "sns.boxplot(x='mortality', y='TRI', data=data_frame1)\n",
    "\n",
    "# Add labels and title\n",
    "plt.xlabel('Mortality')\n",
    "plt.ylabel('TRI')\n",
    "plt.title('Box Plot of Value by Category')\n",
    "\n",
    "# Show plot\n",
    "plt.show()"
   ]
  },
  {
   "cell_type": "code",
   "execution_count": null,
   "id": "6b62d3bc-6037-4c29-acf6-674500a4dd1b",
   "metadata": {},
   "outputs": [],
   "source": [
    "\n",
    "data_frame1['TRI']= pd.cut(x=data_frame1['TRI'], bins = [-np.inf, 149.99, 199.99, np.inf] , right=False, labels=[\"<150\", \"150-199.99\", \">=200\"], include_lowest=True)"
   ]
  },
  {
   "cell_type": "code",
   "execution_count": null,
   "id": "6145bcb7-d8dd-49c0-8015-a77484947ccc",
   "metadata": {},
   "outputs": [],
   "source": [
    "bin_counts = data_frame1['TRI'].value_counts().sort_index()\n",
    "plt.bar(bin_counts.index, bin_counts.values)\n",
    "\n",
    "# Add labels and title\n",
    "plt.xlabel('TRI')\n",
    "plt.ylabel('Frequency')\n",
    "plt.title('Histogram of TRI Range')\n",
    "\n",
    "# Show plot\n",
    "plt.show()"
   ]
  },
  {
   "cell_type": "code",
   "execution_count": null,
   "id": "27bc457c-170e-407e-b8fc-624799d4fe68",
   "metadata": {},
   "outputs": [],
   "source": [
    "sns.boxplot(x='mortality', y='LDL', data=data_frame1)\n",
    "\n",
    "# Add labels and title\n",
    "plt.xlabel('Mortality')\n",
    "plt.ylabel('LDL')\n",
    "plt.title('Box Plot of Value by Category')\n",
    "\n",
    "# Show plot\n",
    "plt.show()"
   ]
  },
  {
   "cell_type": "code",
   "execution_count": null,
   "id": "eb573065-b93a-44a6-9780-7f44f28f13af",
   "metadata": {},
   "outputs": [],
   "source": [
    "\n",
    "data_frame1['LDL']= pd.cut(x=data_frame1['LDL'], bins = [-np.inf, 99.99, 129.99, 159.99, 189.99, np.inf] , right=False, labels=[\"<100\", \"100-129.99\",\"130-159.99\",\"160-189.99\",\">=190\"], include_lowest=True)"
   ]
  },
  {
   "cell_type": "code",
   "execution_count": null,
   "id": "8a75552e-3fd8-42c5-ba9a-2c6b6436378f",
   "metadata": {},
   "outputs": [],
   "source": [
    "bin_counts = data_frame1['LDL'].value_counts().sort_index()\n",
    "plt.bar(bin_counts.index, bin_counts.values)\n",
    "\n",
    "# Add labels and title\n",
    "plt.xlabel('LDL')\n",
    "plt.ylabel('Frequency')\n",
    "plt.title('Histogram of LDL Range')\n",
    "\n",
    "# Show plot\n",
    "plt.show()"
   ]
  },
  {
   "cell_type": "code",
   "execution_count": null,
   "id": "1490158b-ff3f-4cf3-adac-50d964fc5fde",
   "metadata": {},
   "outputs": [],
   "source": [
    "sns.boxplot(x='mortality', y='HDL', data=data_frame1)\n",
    "\n",
    "# Add labels and title\n",
    "plt.xlabel('Mortality')\n",
    "plt.ylabel('HDL')\n",
    "plt.title('Box Plot of Value by Category')\n",
    "\n",
    "# Show plot\n",
    "plt.show()"
   ]
  },
  {
   "cell_type": "code",
   "execution_count": null,
   "id": "2bf0c335-b29e-4ade-a728-f20a744ded47",
   "metadata": {},
   "outputs": [],
   "source": [
    "\n",
    "data_frame1['HDL']= pd.cut(x=data_frame1['HDL'], bins = [-np.inf, 39.99, 59.99, np.inf] , right=False, labels=[\"<40\", \"40-59.99\", \">=60\" ], include_lowest=True)"
   ]
  },
  {
   "cell_type": "code",
   "execution_count": null,
   "id": "5ac65775-d416-4707-8b9a-f93387a917fb",
   "metadata": {},
   "outputs": [],
   "source": [
    "bin_counts = data_frame1['HDL'].value_counts().sort_index()\n",
    "plt.bar(bin_counts.index, bin_counts.values)\n",
    "\n",
    "# Add labels and title\n",
    "plt.xlabel('HDL')\n",
    "plt.ylabel('Frequency')\n",
    "plt.title('Histogram of HDL Range')\n",
    "\n",
    "# Show plot\n",
    "plt.show()"
   ]
  },
  {
   "cell_type": "code",
   "execution_count": null,
   "id": "2a795e48-2366-4de6-8043-e2ae0026c8ec",
   "metadata": {},
   "outputs": [],
   "source": [
    "sns.boxplot(x='mortality', y='FRAILTY', data=data_frame1)\n",
    "\n",
    "# Add labels and title\n",
    "plt.xlabel('Mortality')\n",
    "plt.ylabel('FRAILTY')\n",
    "plt.title('Box Plot of Value by Category')\n",
    "\n",
    "# Show plot\n",
    "plt.show()"
   ]
  },
  {
   "cell_type": "code",
   "execution_count": null,
   "id": "26e48626-5fbc-4034-904d-75edf47da7a6",
   "metadata": {},
   "outputs": [],
   "source": [
    "\n",
    "data_frame1['FRAILTY']= pd.cut(x=data_frame1['FRAILTY'], bins = [0.00, 0.10, 0.20, 0.30, 0.40,np.inf] , right=False, labels=[\"Non-frail\", \"Pre-frail\", \"Mild\", \"Moderate\", \"Severe\"], include_lowest=True)"
   ]
  },
  {
   "cell_type": "code",
   "execution_count": null,
   "id": "522f9b45-1a1b-44b0-bf4c-9584b9c75b55",
   "metadata": {},
   "outputs": [],
   "source": [
    "bin_counts = data_frame1['FRAILTY'].value_counts().sort_index()\n",
    "plt.bar(bin_counts.index, bin_counts.values)\n",
    "\n",
    "# Add labels and title\n",
    "plt.xlabel('FRAILTY')\n",
    "plt.ylabel('Frequency')\n",
    "plt.title('Histogram of FRAILTY Range')\n",
    "\n",
    "# Show plot\n",
    "plt.show()"
   ]
  },
  {
   "cell_type": "code",
   "execution_count": null,
   "id": "695d0e6c-e4f5-452b-b9c0-6ff1a0a7de17",
   "metadata": {},
   "outputs": [],
   "source": [
    "data_frame1.info()"
   ]
  },
  {
   "cell_type": "markdown",
   "id": "bf130e5f-6b05-4102-85aa-d388b75cdd45",
   "metadata": {},
   "source": [
    "### HANDLING NULL VALUES"
   ]
  },
  {
   "cell_type": "code",
   "execution_count": null,
   "id": "e0e65add-2e2a-41ab-843a-055b92c97131",
   "metadata": {},
   "outputs": [],
   "source": [
    "data_frame1 = data_frame1.drop('MICROALB',axis=1)"
   ]
  },
  {
   "cell_type": "code",
   "execution_count": null,
   "id": "b4b4a946-f822-4154-9520-949744f52302",
   "metadata": {},
   "outputs": [],
   "source": [
    "data_frame1['LDL'] = data_frame1['LDL'].cat.add_categories('Missing')\n",
    "\n",
    "data_frame1['HDL'] = data_frame1['HDL'].cat.add_categories('Missing')\n",
    "\n",
    "data_frame1['SERUMALB'] = data_frame1['SERUMALB'].cat.add_categories('Missing')\n",
    "\n",
    "data_frame1['TRI'] = data_frame1['TRI'].cat.add_categories('Missing')\n",
    "\n",
    "data_frame1['SERUMCRE'] = data_frame1['SERUMCRE'].cat.add_categories('Missing')\n",
    "\n",
    "\n",
    "# LDL \"<100\", \"100-129.99\",\"130-159.99\",\"160-189.99\",\">=190\"\n",
    "# HDL \"<40\", \"40-59.99\", \">=60\"\n",
    "# SERUMALB \"<3.5\", \">=3.5\"\n",
    "# TRI \"<150\", \"150-199.99\", \">=200\"\n",
    "# SERUMCRE\"<1.5\", \"1.5-3.0\", \">3.0\"\n",
    "data_frame1['LDL'].unique()"
   ]
  },
  {
   "cell_type": "code",
   "execution_count": null,
   "id": "a82c2e6d-da30-4677-9a28-a1dcc8754dec",
   "metadata": {},
   "outputs": [],
   "source": [
    "data_frame1['HDL'].unique()"
   ]
  },
  {
   "cell_type": "code",
   "execution_count": null,
   "id": "b7177762-ba99-4327-93e7-0347fa3e9b3d",
   "metadata": {},
   "outputs": [],
   "source": [
    "data_frame1['LDL'] = data_frame1['LDL'].fillna('Missing')\n",
    "data_frame1['HDL'] = data_frame1['HDL'].fillna('Missing')\n",
    "data_frame1['SERUMALB'] = data_frame1['SERUMALB'].fillna('Missing')\n",
    "data_frame1['TRI'] = data_frame1['TRI'].fillna('Missing')\n",
    "data_frame1['SERUMCRE'] = data_frame1['SERUMCRE'].fillna('Missing')"
   ]
  },
  {
   "cell_type": "code",
   "execution_count": null,
   "id": "8be1be8f-45d7-40d1-884d-5579785b5614",
   "metadata": {},
   "outputs": [],
   "source": [
    "null_count = data_frame1.isnull().sum()\n",
    "pd.set_option('display.max_rows', 70)\n",
    "print(null_count.sort_values(ascending=False))"
   ]
  },
  {
   "cell_type": "markdown",
   "id": "1902c90a-fae2-49ff-b589-3db9264ef1cd",
   "metadata": {},
   "source": [
    "### DECODING VARIABLES"
   ]
  },
  {
   "cell_type": "code",
   "execution_count": null,
   "id": "dda3541c-d209-4df1-b91a-b0ac3b195bd8",
   "metadata": {},
   "outputs": [],
   "source": [
    "dict_race = {1: \"White\",\n",
    "            2: \"Black\",\n",
    "            3: \"Other\"}\n",
    "\n",
    "data_frame1['RACE'] = data_frame1['RACE'].replace(dict_race)\n",
    "print(data_frame1.head())"
   ]
  },
  {
   "cell_type": "markdown",
   "id": "b2287818-c22f-4d31-8c0e-9de52e152cf6",
   "metadata": {},
   "source": [
    "### HANDLING IRREGULAR CARDINALITY"
   ]
  },
  {
   "cell_type": "code",
   "execution_count": null,
   "id": "145758c4-7d01-4d70-ba72-a15e1a05dbc9",
   "metadata": {},
   "outputs": [],
   "source": [
    "data_frame1.info()\n",
    "data_frame_copy = data_frame1"
   ]
  },
  {
   "cell_type": "code",
   "execution_count": null,
   "id": "1d956083-66c8-482e-94bd-c516871ef50c",
   "metadata": {},
   "outputs": [],
   "source": [
    "for col in data_frame1.columns:\n",
    "        data_frame1[col] = data_frame1[col].astype(bool)\n",
    "\n",
    "data_frame1.info()"
   ]
  },
  {
   "cell_type": "code",
   "execution_count": null,
   "id": "9d305a09-ca8c-4f6a-a3d4-6c3f5165957d",
   "metadata": {},
   "outputs": [],
   "source": [
    "for col in data_frame1.columns:\n",
    "    print(\"##########\")\n",
    "    print(data_frame1[col].value_counts())\n",
    "    print(\"##########\")"
   ]
  }
 ],
 "metadata": {
  "kernelspec": {
   "display_name": "Python 3 (ipykernel)",
   "language": "python",
   "name": "python3"
  },
  "language_info": {
   "codemirror_mode": {
    "name": "ipython",
    "version": 3
   },
   "file_extension": ".py",
   "mimetype": "text/x-python",
   "name": "python",
   "nbconvert_exporter": "python",
   "pygments_lexer": "ipython3",
   "version": "3.11.4"
  }
 },
 "nbformat": 4,
 "nbformat_minor": 5
}
